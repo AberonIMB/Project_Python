{
  "cells": [
    {
      "cell_type": "markdown",
      "metadata": {
        "id": "M-DGa20PaHnu"
      },
      "source": [
        "#Задача 1\n",
        "Написать функцию на вход которой подается строка, состоящая из латинских букв.\n",
        "Функция должна вернуть количество гласных букв (a, e, i, o, u) в этой строке. Написать тесты для кода"
      ]
    },
    {
      "cell_type": "code",
      "execution_count": 4,
      "metadata": {
        "id": "XvX8X_JJ6PCb"
      },
      "outputs": [
        {
          "name": "stdout",
          "output_type": "stream",
          "text": [
            "Test was successful\n",
            "Test was successful\n",
            "Test was successful\n"
          ]
        }
      ],
      "source": [
        "def count_vowel_letters(str):\n",
        "    vowel_letters = 'aeiouAEIOU'\n",
        "    count = 0\n",
        "    for i in str:\n",
        "        if i in vowel_letters:\n",
        "            count += 1\n",
        "    return count\n",
        "\n",
        "\n",
        "def test(string, answer):\n",
        "    result = count_vowel_letters(string)\n",
        "    print(\"Test was successful\" if result == answer else \"Test failed\")\n",
        "\n",
        "\n",
        "test(\"a\" * 20, 20)\n",
        "test(\"sssss\", 0)\n",
        "test(\"aeiou\", 5)"
      ]
    },
    {
      "cell_type": "markdown",
      "metadata": {
        "id": "t2ClV_Y0bbr6"
      },
      "source": [
        "# Задача 2\n",
        "Написать функцию на вход, которой подается строка. Функция должна вернуть true, если\n",
        "каждый символ в строке встречается только 1 раз, иначе должна вернуть false. Написать тесты для кода"
      ]
    },
    {
      "cell_type": "code",
      "execution_count": 5,
      "metadata": {
        "id": "FppbECao6VIz"
      },
      "outputs": [
        {
          "name": "stdout",
          "output_type": "stream",
          "text": [
            "Test was successful\n",
            "Test was successful\n",
            "Test was successful\n"
          ]
        }
      ],
      "source": [
        "def check_uniqueness(str):\n",
        "    return len(set(str)) == len(str)\n",
        "\n",
        "def test(string, answer):\n",
        "    result = check_uniqueness(string)\n",
        "    print(\"Test was successful\" if result == answer else \"Test failed\")\n",
        "\n",
        "test(\"qwerty\", True)\n",
        "test(\"q\" * 2, False)\n",
        "test(\"May the Force be with you\", False)"
      ]
    },
    {
      "cell_type": "markdown",
      "metadata": {
        "id": "udRiIK1cdt6E"
      },
      "source": [
        "# Задача 3\n",
        "Написать функцию, которая принимает положительное число и возвращает количество\n",
        "бит равных 1 в этом числе. Написать тесты для кода"
      ]
    },
    {
      "cell_type": "code",
      "execution_count": 6,
      "metadata": {
        "id": "6tkfDJRz6dp_"
      },
      "outputs": [
        {
          "name": "stdout",
          "output_type": "stream",
          "text": [
            "Test was successful\n",
            "Test was successful\n",
            "Test was successful\n"
          ]
        }
      ],
      "source": [
        "def do_magic(num):\n",
        "    return bin(num).count('1')\n",
        "\n",
        "\n",
        "def test(number, answer):\n",
        "    result = do_magic(number)\n",
        "    print(\"Test was successful\" if result == answer else \"Test failed\")\n",
        "\n",
        "\n",
        "test(42, 3)\n",
        "test(3456, 4)\n",
        "test(100000, 6)"
      ]
    },
    {
      "cell_type": "markdown",
      "metadata": {
        "id": "26dDUz-Ae17N"
      },
      "source": [
        "# Задача 4\n",
        "Написать функцию, которая принимает положительное число. Функция должна вернуть то,\n",
        "сколько раз необходимо перемножать цифры числа или результат перемножения, чтобы\n",
        "получилось число состоящее из одной цифры.\n",
        "Например, для входного числа:\n",
        "· 39 функция должна вернуть 3, так как 3*9=27 => 2*7=14 => 1*4=4\n",
        "· 4 функция должна вернуть 0, так как число уже состоит из одной цифры\n",
        "· 999 функция должна вернуть 4, так как 9*9*9=729 => 7*2*9=126 => 1*2*6=12 =>\n",
        "1*2=2. Написать тесты для кода"
      ]
    },
    {
      "cell_type": "code",
      "execution_count": 10,
      "metadata": {
        "id": "BH1A_Mgi6i4G"
      },
      "outputs": [
        {
          "name": "stdout",
          "output_type": "stream",
          "text": [
            "Test was successful\n",
            "Test was successful\n",
            "Test was successful\n"
          ]
        }
      ],
      "source": [
        "def magic(n):\n",
        "    count = 0\n",
        "    while n > 9:\n",
        "        num = 1\n",
        "        for i in str(n):\n",
        "            num *= int(i)\n",
        "        n = num\n",
        "        count += 1\n",
        "    return(count)\n",
        "\n",
        "\n",
        "def test(number, answer):\n",
        "    result = magic(number)\n",
        "    print(\"Test was successful\" if result == answer else \"Test failed\")\n",
        "\n",
        "\n",
        "test(39, 3)\n",
        "test(4, 0)\n",
        "test(999, 4)"
      ]
    },
    {
      "cell_type": "markdown",
      "metadata": {
        "id": "0nS-kIa8g8vd"
      },
      "source": [
        "# Задача 5\n",
        "Написать функцию, которая принимает два целочисленных вектора одинаковой длины и\n",
        "возвращает среднеквадратическое отклонение двух векторов. Написать тесты для кода"
      ]
    },
    {
      "cell_type": "code",
      "execution_count": 1,
      "metadata": {
        "id": "8iphx4LM6xbx"
      },
      "outputs": [
        {
          "name": "stdout",
          "output_type": "stream",
          "text": [
            "Test was successful\n",
            "Test was successful\n",
            "Test was successful\n"
          ]
        }
      ],
      "source": [
        "def mse(pred, true):\n",
        "    return (sum((x1 - x2) ** 2 for x1, x2 in zip(pred, true)) / len(pred)) ** 0.5\n",
        "\n",
        "\n",
        "def test(vector1, vector2, answer):\n",
        "    result = mse(vector1, vector2)\n",
        "    print(\"Test was successful\" if result == answer else \"Test failed\")\n",
        "\n",
        "\n",
        "test([1, 2, 3], [4, 5, 6], 3)\n",
        "test([5, 5, 5], [5, 5, 5], 0)\n",
        "test([2, 2, 2], [4, 4, 4], 2)"
      ]
    },
    {
      "cell_type": "markdown",
      "metadata": {
        "id": "vpIPKL439zkw"
      },
      "source": [
        "# Задача 6\n",
        "Написать функцию, принимающая целое положительное число. Функция должна вернуть\n",
        "строку вида “(n1**p1)(n2**p2)…(nk**pk)” представляющая разложение числа на простые\n",
        "множители (если pi == 1, то выводить только ni).\n",
        "Например, для числа 86240 функция должна вернуть “(2**5)(5)(7**2)(11)”. Написать тесты для кода"
      ]
    },
    {
      "cell_type": "code",
      "execution_count": 2,
      "metadata": {
        "id": "pFebmcZk94Jw"
      },
      "outputs": [
        {
          "name": "stdout",
          "output_type": "stream",
          "text": [
            "Test was successful\n",
            "Test was successful\n",
            "Test was successful\n",
            "Test was successful\n"
          ]
        }
      ],
      "source": [
        "def prime_factors(num):\n",
        "    factors = []\n",
        "    divisor = 2\n",
        "    while num > 1:\n",
        "        while num % divisor == 0:\n",
        "            factors.append(divisor)\n",
        "            num //= divisor\n",
        "        divisor += 1\n",
        "    return to_string(factors)\n",
        "\n",
        "\n",
        "def to_string(factors):\n",
        "    result = ''\n",
        "    for i in sorted(set(factors)):\n",
        "        power = factors.count(i)\n",
        "        if power == 1:\n",
        "            result += f'({i})'\n",
        "        else:\n",
        "            result += f'({i} ** {power})'\n",
        "    return result\n",
        "\n",
        "\n",
        "def test(number, answer):\n",
        "    result = prime_factors(number)\n",
        "    print(\"Test was successful\" if result == answer else \"Test failed\")\n",
        "\n",
        "\n",
        "test(86240, \"(2 ** 5)(5)(7 ** 2)(11)\")\n",
        "test(0, '')\n",
        "test(16, \"(2 ** 4)\")\n",
        "test(12345678, \"(2)(3 ** 2)(47)(14593)\")"
      ]
    },
    {
      "cell_type": "markdown",
      "metadata": {
        "id": "ps2s0BudX7A2"
      },
      "source": [
        "# Задача 7\n",
        "Написать функцию, принимающая целое число n, задающее количество кубиков. Функция\n",
        "должна определить, можно ли из данного кол-ва кубиков построить пирамиду, то есть\n",
        "можно ли представить число n как 1^2+2^2+3^2+…+k^2. Если можно, то функция должна\n",
        "вернуть k, иначе строку “It is impossible”. Написать тесты для кода"
      ]
    },
    {
      "cell_type": "code",
      "execution_count": 4,
      "metadata": {
        "id": "3YPjEXxhX_YT"
      },
      "outputs": [
        {
          "name": "stdout",
          "output_type": "stream",
          "text": [
            "Test was successful\n",
            "Test was successful\n",
            "Test was successful\n",
            "Test was successful\n"
          ]
        }
      ],
      "source": [
        "def pyramid(number):\n",
        "    count = 0\n",
        "    k = 1\n",
        "    while count < number:\n",
        "        count += k ** 2\n",
        "        k += 1\n",
        "    if count == number:\n",
        "        return k - 1\n",
        "    else:\n",
        "        return \"It is impossible\"\n",
        "\n",
        "\n",
        "def test(number, answer):\n",
        "    result = pyramid(number)\n",
        "    print(\"Test was successful\" if result == answer else \"Test failed\")\n",
        "\n",
        "\n",
        "test(5, 2)\n",
        "test(10, \"It is impossible\")\n",
        "test(30, 4)\n",
        "test(56980, 55)"
      ]
    },
    {
      "cell_type": "markdown",
      "metadata": {
        "id": "KeKgmIdAQMEJ"
      },
      "source": [
        "# Задача 8\n",
        "Функция принимает на вход положительное число и определяет является ли оно сбалансированным, т.е. сумма цифр до средних равна сумме цифр после. Средними в случае нечетного числа цифр считать одну цифру, в случае четного - две средних. Написать тесты для кода"
      ]
    },
    {
      "cell_type": "code",
      "execution_count": 3,
      "metadata": {
        "id": "gMAAqtqlQrZt"
      },
      "outputs": [
        {
          "name": "stdout",
          "output_type": "stream",
          "text": [
            "Test was successful\n",
            "Test was successful\n",
            "Test was successful\n"
          ]
        }
      ],
      "source": [
        "def is_balance(num):\n",
        "    number = str(num)\n",
        "    length = len(number)\n",
        "    first_part = number[:length // 2 - (length - 1) % 2]\n",
        "    second_part = number[length // 2 + 1:]\n",
        "    return calculate(first_part, second_part)\n",
        "\n",
        "\n",
        "def calculate(first, second):\n",
        "    f = 0\n",
        "    s = 0\n",
        "    for i in range(len(first)):\n",
        "        f += int(first[i])\n",
        "        s += int(second[i])\n",
        "    return f == s\n",
        "\n",
        "\n",
        "def test(number, answer):\n",
        "    result = is_balance(number)\n",
        "    print(\"Test was successful\" if result == answer else \"Test failed\")\n",
        "\n",
        "test(1234321, True)\n",
        "test(23456234, True)\n",
        "test(1233211, False)"
      ]
    }
  ],
  "metadata": {
    "colab": {
      "provenance": []
    },
    "kernelspec": {
      "display_name": "Python 3",
      "name": "python3"
    },
    "language_info": {
      "codemirror_mode": {
        "name": "ipython",
        "version": 3
      },
      "file_extension": ".py",
      "mimetype": "text/x-python",
      "name": "python",
      "nbconvert_exporter": "python",
      "pygments_lexer": "ipython3",
      "version": "3.9.13"
    }
  },
  "nbformat": 4,
  "nbformat_minor": 0
}
